{
 "cells": [
  {
   "cell_type": "markdown",
   "metadata": {},
   "source": [
    "# Tutorial 1: Training and Evaluation of Logistic Regression on Encrypted Data"
   ]
  },
  {
   "cell_type": "markdown",
   "metadata": {},
   "source": [
    "## Setup"
   ]
  },
  {
   "cell_type": "code",
   "execution_count": 1,
   "metadata": {},
   "outputs": [],
   "source": [
    "import torch\n",
    "import tenseal as ts\n",
    "import pandas as pd\n",
    "import random\n",
    "from time import time\n",
    "from time import sleep\n",
    "\n",
    "# those are optional and are not necessary for training\n",
    "import numpy as np\n",
    "import matplotlib.pyplot as plt\n",
    "from sklearn.model_selection import train_test_split\n",
    "from sklearn.preprocessing import MinMaxScaler\n",
    "import psutil\n",
    "import threading\n",
    "from tqdm import tqdm\n",
    "\n",
    "# torch.random.manual_seed(11)\n",
    "# random.seed(11)\n",
    "# np.random.seed(11) "
   ]
  },
  {
   "cell_type": "markdown",
   "metadata": {},
   "source": [
    "## dataset"
   ]
  },
  {
   "cell_type": "code",
   "execution_count": 2,
   "metadata": {},
   "outputs": [],
   "source": [
    "def cic_dataset():\n",
    "    save_list = [\"X_train\", \"X_test\", \"y_train\", \"y_test\"]\n",
    "    \n",
    "    for i in save_list:\n",
    "        save_path = '/home/cselab/III_TENSEAL_project_III/data/' + i+'.csv'\n",
    "        globals()[\"{}\".format(i)] = pd.read_csv(save_path)\n",
    "    \n",
    "    x_tra = torch.tensor(X_train.values).float()\n",
    "    y_tra = torch.tensor(y_train.values).float()\n",
    "    x_te = torch.tensor(X_test.values).float()\n",
    "    y_te = torch.tensor(y_test.values).float()\n",
    "    \n",
    "    print(\"############# Data summary #############\")\n",
    "    print(f\"x_train has shape: {x_tra.shape}\")\n",
    "    print(f\"y_train has shape: {y_tra.shape}\")\n",
    "    print(f\"x_test has shape: {x_te.shape}\")\n",
    "    print(f\"y_test has shape: {y_te.shape}\")\n",
    "    print(\"#######################################\")\n",
    "    return x_tra, y_tra, x_te, y_te"
   ]
  },
  {
   "cell_type": "code",
   "execution_count": 3,
   "metadata": {},
   "outputs": [],
   "source": [
    "def test_dataset():\n",
    "    save_path = '/home/cselab/III_TENSEAL_project_III/data/test_clear3.csv'\n",
    "    data = pd.read_csv(save_path)\n",
    "    print(data.shape)\n",
    "    \n",
    "    y = data['Label']\n",
    "    X = data[:]\n",
    "    X = X.drop(labels='Label',axis=1)\n",
    "    X_train, X_test, y_train, y_test = train_test_split(X, y, test_size=0.2, \n",
    "                                                        shuffle=True, random_state=34)\n",
    "    \n",
    "    scaler = MinMaxScaler(feature_range=(0,1)) \n",
    "    scaler.fit(X_train)\n",
    "    transformed_X_train = scaler.transform(X_train)\n",
    "    transformed_X_test = scaler.transform(X_test) \n",
    "    \n",
    "    x_train = torch.tensor(transformed_X_train).float()\n",
    "    y_train = torch.tensor(y_train.values).float()\n",
    "    x_test = torch.tensor(transformed_X_test).float()\n",
    "    y_test = torch.tensor(y_test.values).float()\n",
    "    \n",
    "    y_test = y_test.reshape(-1,1)\n",
    "    y_train = y_train.reshape(-1,1)\n",
    "    \n",
    "    print(\"############# Data summary #############\")\n",
    "    print(f\"x_train has shape: {x_train.shape}\")\n",
    "    print(f\"y_train has shape: {y_train.shape}\")\n",
    "    print(f\"x_test has shape: {x_test.shape}\")\n",
    "    print(f\"y_test has shape: {y_test.shape}\")\n",
    "    print(\"#######################################\")\n",
    "    \n",
    "    return x_train, y_train, x_test, y_test"
   ]
  },
  {
   "cell_type": "code",
   "execution_count": 4,
   "metadata": {},
   "outputs": [
    {
     "name": "stdout",
     "output_type": "stream",
     "text": [
      "############# Data summary #############\n",
      "x_train has shape: torch.Size([961, 291])\n",
      "y_train has shape: torch.Size([961, 1])\n",
      "x_test has shape: torch.Size([241, 291])\n",
      "y_test has shape: torch.Size([241, 1])\n",
      "#######################################\n"
     ]
    }
   ],
   "source": [
    "# select dataset\n",
    "x_train, y_train, x_test, y_test = cic_dataset()\n",
    "# x_train, y_train, x_test, y_test = test_dataset()"
   ]
  },
  {
   "cell_type": "markdown",
   "metadata": {},
   "source": [
    "## memory usage"
   ]
  },
  {
   "cell_type": "code",
   "execution_count": 5,
   "metadata": {},
   "outputs": [],
   "source": [
    "st = time()\n",
    "mem_buff = {}\n",
    "mem_flag = [True]\n",
    "\n",
    "def record_mem():    \n",
    "    global mem_buff, st\n",
    "    while mem_flag[0]:\n",
    "        p = psutil.Process()\n",
    "        rss = p.memory_info().rss/2**20        \n",
    "        mem_buff[time()-st] = (rss)"
   ]
  },
  {
   "cell_type": "code",
   "execution_count": 6,
   "metadata": {},
   "outputs": [],
   "source": [
    "def memory_usage(message: str = 'debug'):\n",
    "    # current process RAM usage\n",
    "    p2 = psutil.Process()\n",
    "    rss = p2.memory_info().rss / 2 ** 20 # Bytes to MB\n",
    "    # print(f\"[{message}] memory usage: {rss: 10.5f} MB\")\n",
    "    return rss"
   ]
  },
  {
   "cell_type": "markdown",
   "metadata": {},
   "source": [
    "## Training a Logistic Regression Model\n",
    "\n",
    "We will start by training a logistic regression model (without any encryption), which can be viewed as a single layer neural network with a single node. We will be using this model as a means of comparison against encrypted training and evaluation."
   ]
  },
  {
   "cell_type": "code",
   "execution_count": 7,
   "metadata": {},
   "outputs": [],
   "source": [
    "class LR(torch.nn.Module):\n",
    "    def __init__(self, n_features):\n",
    "        super(LR, self).__init__()\n",
    "        self.lr = torch.nn.Linear(n_features, 1)\n",
    "        \n",
    "    def forward(self, x):\n",
    "        out = torch.sigmoid(self.lr(x))\n",
    "        return out"
   ]
  },
  {
   "cell_type": "code",
   "execution_count": 8,
   "metadata": {},
   "outputs": [],
   "source": [
    "n_features = x_train.shape[1]\n",
    "model = LR(n_features)\n",
    "# use gradient descent with a learning_rate=1\n",
    "optim = torch.optim.SGD(model.parameters(), lr=1)\n",
    "# use Binary Cross Entropy Loss\n",
    "criterion = torch.nn.BCELoss()"
   ]
  },
  {
   "cell_type": "code",
   "execution_count": 9,
   "metadata": {},
   "outputs": [
    {
     "name": "stderr",
     "output_type": "stream",
     "text": [
      "100%|█████████████████████████████████████████████| 1/1 [00:00<00:00, 15.33it/s]"
     ]
    },
    {
     "name": "stdout",
     "output_type": "stream",
     "text": [
      "LR_time :  0.06502294540405273\n",
      "====================\n",
      "LR_mem mean :  3.96875\n",
      "LR_mem sum :  3.96875\n",
      "LR_mem max :  3.96875    LR_mem min :  3.96875\n",
      "LR_mem :  [3.96875]\n",
      "====================\n",
      "LR_mem_sub :  509.5390625\n",
      "LR_mem_first :  505.25\n",
      "LR_mem_last :  509.5390625\n",
      "LR_mem_sub :  [509.5390625]\n"
     ]
    },
    {
     "name": "stderr",
     "output_type": "stream",
     "text": [
      "\n"
     ]
    }
   ],
   "source": [
    "# define the number of epochs for both plain and encrypted training\n",
    "EPOCHS = 5\n",
    "\n",
    "def train(model, optim, criterion, x, y, epochs=EPOCHS):\n",
    "    for e in range(1, epochs + 1):\n",
    "        optim.zero_grad()\n",
    "        out = model(x)\n",
    "        # print(y.shape)\n",
    "        # print(out.shape)\n",
    "        loss = criterion(out, y)\n",
    "        loss.backward()\n",
    "        optim.step()\n",
    "        # print(f\"Loss at epoch {e}: {loss.data}\")\n",
    "    return model\n",
    "\n",
    "LR_time = []\n",
    "LR_mem = []\n",
    "LR_mem_sub = []\n",
    "\n",
    "sfm_s = memory_usage()\n",
    "\n",
    "for i in tqdm(range(1)):\n",
    "    mem_buff = {}\n",
    "    mem_flag[0] = True\n",
    "    st = time()\n",
    "    t = threading.Thread(target = record_mem)\n",
    "    t.start()\n",
    "    \n",
    "    \n",
    "    sleep(0.0001)\n",
    "    model = train(model, optim, criterion, x_train, y_train)\n",
    "    sleep(0.0001)\n",
    "    \n",
    "    \n",
    "    et = time()\n",
    "    mem_flag[0] = False\n",
    "    t.join()\n",
    "    ft = et-st\n",
    "    fm = mem_buff[max(mem_buff)]-mem_buff[min(mem_buff)]\n",
    "    # print(\"time : \", et-st)\n",
    "    # print(\"memory : \", mem_buff[max(mem_buff)]-mem_buff[min(mem_buff)])\n",
    "    fm_s = memory_usage()\n",
    "    LR_time.append(ft)\n",
    "    LR_mem.append(fm)\n",
    "    LR_mem_sub.append(fm_s)\n",
    "# plt.title(\"Memory Tracing\")\n",
    "# plt.ylabel(\"Memory_usage\")\n",
    "# plt.xlabel(\"Time\")\n",
    "# plt.plot(mem_buff.keys(), [mem_buff[i] for i in mem_buff.keys()])\n",
    "# plt.show()\n",
    "\n",
    "\n",
    "print(\"LR_time : \", np.mean(LR_time))\n",
    "print(\"====================\")\n",
    "print(\"LR_mem mean : \", np.mean(LR_mem))\n",
    "print(\"LR_mem sum : \", np.sum(LR_mem))\n",
    "print(\"LR_mem max : \", max(LR_mem), \"   LR_mem min : \", min(LR_mem))\n",
    "print(\"LR_mem : \", LR_mem)\n",
    "\n",
    "print(\"====================\")\n",
    "print(\"LR_mem_sub : \", np.mean(LR_mem_sub))\n",
    "print(\"LR_mem_first : \", sfm_s )\n",
    "print(\"LR_mem_last : \", LR_mem_sub[-1])\n",
    "print(\"LR_mem_sub : \", LR_mem_sub)"
   ]
  },
  {
   "cell_type": "code",
   "execution_count": 10,
   "metadata": {},
   "outputs": [
    {
     "name": "stdout",
     "output_type": "stream",
     "text": [
      "Accuracy on plain test_set: 1.0\n"
     ]
    }
   ],
   "source": [
    "def accuracy(model, x, y):\n",
    "    out = model(x)\n",
    "    correct = torch.abs(y - out) < 0.5\n",
    "    return correct.float().mean()\n",
    "\n",
    "plain_accuracy = accuracy(model, x_test, y_test)\n",
    "print(f\"Accuracy on plain test_set: {plain_accuracy}\")"
   ]
  },
  {
   "attachments": {},
   "cell_type": "markdown",
   "metadata": {},
   "source": [
    "## Training an Encrypted Logistic Regression Model on Encrypted Data"
   ]
  },
  {
   "cell_type": "markdown",
   "metadata": {},
   "source": [
    "### Enc training"
   ]
  },
  {
   "cell_type": "code",
   "execution_count": 11,
   "metadata": {},
   "outputs": [],
   "source": [
    "class EncryptedLR:\n",
    "    \n",
    "    def __init__(self, torch_lr):\n",
    "        self.weight = torch_lr.lr.weight.data.tolist()[0]\n",
    "        self.bias = torch_lr.lr.bias.data.tolist()\n",
    "        # print(self.weight)\n",
    "        # print(self.bias)\n",
    "        # we accumulate gradients and counts the number of iterations\n",
    "        self._delta_w = 0\n",
    "        self._delta_b = 0\n",
    "        self._count = 0\n",
    "        \n",
    "    def forward(self, enc_x):\n",
    "        enc_out = enc_x.dot(self.weight) + self.bias\n",
    "        enc_out = EncryptedLR.sigmoid(enc_out)\n",
    "        return enc_out\n",
    "    \n",
    "    def backward(self, enc_x, enc_out, enc_y):\n",
    "        out_minus_y = (enc_out - enc_y)\n",
    "        self._delta_w += enc_x * out_minus_y\n",
    "        self._delta_b += out_minus_y\n",
    "        self._count += 1\n",
    "        \n",
    "    def update_parameters(self):\n",
    "        if self._count == 0:\n",
    "            raise RuntimeError(\"You should at least run one forward iteration\")\n",
    "        # update weights\n",
    "        # We use a small regularization term to keep the output\n",
    "        # of the linear layer in the range of the sigmoid approximation\n",
    "        self.weight -= self._delta_w * (1 / self._count) + self.weight * 0.05\n",
    "        self.bias -= self._delta_b * (1 / self._count)\n",
    "        # reset gradient accumulators and iterations count\n",
    "        self._delta_w = 0\n",
    "        self._delta_b = 0\n",
    "        self._count = 0\n",
    "        # print(\"weight : \", self.weight.decrypt() , \"bias : \", self.bias.decrypt())\n",
    "    \n",
    "    @staticmethod\n",
    "    def sigmoid(enc_x):\n",
    "        # We use the polynomial approximation of degree 3\n",
    "        # sigmoid(x) = 0.5 + 0.197 * x - 0.004 * x^3\n",
    "        # from https://eprint.iacr.org/2018/462.pdf\n",
    "        # which fits the function pretty well in the range [-5,5]\n",
    "        return enc_x.polyval([0.5, 0.197, 0, -0.004])\n",
    "    \n",
    "    def plain_accuracy(self, x_test, y_test):\n",
    "        # evaluate accuracy of the model on\n",
    "        # the plain (x_test, y_test) dataset\n",
    "        w = torch.tensor(self.weight)\n",
    "        b = torch.tensor(self.bias)\n",
    "        out = torch.sigmoid(x_test.matmul(w) + b).reshape(-1, 1)\n",
    "        # print(out)\n",
    "        correct = torch.abs(y_test - out) < 0.5\n",
    "        return correct.float().mean()    \n",
    "    \n",
    "    def encrypt(self, context):\n",
    "        self.weight = ts.ckks_vector(context, self.weight)\n",
    "        self.bias = ts.ckks_vector(context, self.bias)\n",
    "        \n",
    "    def decrypt(self):\n",
    "        self.weight = self.weight.decrypt()\n",
    "        self.bias = self.bias.decrypt()\n",
    "        \n",
    "    def __call__(self, *args, **kwargs):\n",
    "        return self.forward(*args, **kwargs)\n"
   ]
  },
  {
   "cell_type": "code",
   "execution_count": 12,
   "metadata": {},
   "outputs": [],
   "source": [
    "# parameters\n",
    "poly_mod_degree = 8192\n",
    "coeff_mod_bit_sizes = [40, 21, 21, 21, 21, 21, 21, 40]\n",
    "# create TenSEALContext\n",
    "ctx_training = ts.context(ts.SCHEME_TYPE.CKKS, poly_mod_degree, -1, coeff_mod_bit_sizes)\n",
    "ctx_training.global_scale = 2 ** 21\n",
    "ctx_training.generate_galois_keys()"
   ]
  },
  {
   "cell_type": "code",
   "execution_count": 13,
   "metadata": {},
   "outputs": [
    {
     "name": "stderr",
     "output_type": "stream",
     "text": [
      "100%|█████████████████████████████████████████████| 1/1 [00:29<00:00, 29.17s/it]\n"
     ]
    },
    {
     "name": "stdout",
     "output_type": "stream",
     "text": [
      "LR_time :  29.161460161209106\n",
      "====================\n",
      "LR_mem mean :  2661.72265625\n",
      "LR_mem sum :  2661.72265625\n",
      "LR_mem max :  2661.72265625    LR_mem min :  2661.72265625\n",
      "LR_mem :  [2661.72265625]\n",
      "====================\n",
      "LR_mem_sub :  3545.26953125\n",
      "LR_mem_first :  881.125\n",
      "LR_mem_last :  3545.26953125\n",
      "LR_mem_sub :  [3545.26953125]\n"
     ]
    }
   ],
   "source": [
    "mem_buff = {}\n",
    "mem_flag[0] = True\n",
    "\n",
    "LR_time = []\n",
    "LR_mem = []\n",
    "LR_mem_sub = []\n",
    "\n",
    "sfm_s = memory_usage()\n",
    "\n",
    "for i in tqdm(range(1)):\n",
    "    st = time()\n",
    "    t = threading.Thread(target = record_mem)\n",
    "    t.start()\n",
    "    \n",
    "    enc_x_train11 = [ts.ckks_vector(ctx_training, x.tolist()) for x in x_train]\n",
    "    enc_y_train11 = [ts.ckks_vector(ctx_training, y.tolist()) for y in y_train]\n",
    "    \n",
    "    et = time()\n",
    "    mem_flag[0] = False\n",
    "    t.join()\n",
    "\n",
    "    ft = et-st\n",
    "    fm = mem_buff[max(mem_buff)]-mem_buff[min(mem_buff)]\n",
    "    fm_s = memory_usage()\n",
    "    LR_time.append(ft)\n",
    "    LR_mem.append(fm)\n",
    "    LR_mem_sub.append(fm_s)\n",
    "\n",
    "\n",
    "print(\"LR_time : \", np.mean(LR_time))\n",
    "print(\"====================\")\n",
    "print(\"LR_mem mean : \", np.mean(LR_mem))\n",
    "print(\"LR_mem sum : \", np.sum(LR_mem))\n",
    "print(\"LR_mem max : \", max(LR_mem), \"   LR_mem min : \", min(LR_mem))\n",
    "print(\"LR_mem : \", LR_mem)\n",
    "\n",
    "print(\"====================\")\n",
    "print(\"LR_mem_sub : \", np.mean(LR_mem_sub))\n",
    "print(\"LR_mem_first : \", sfm_s )\n",
    "print(\"LR_mem_last : \", LR_mem_sub[-1])\n",
    "print(\"LR_mem_sub : \", LR_mem_sub)\n",
    "\n",
    "\n",
    "enc_x_train = [ts.ckks_vector(ctx_training, x.tolist()) for x in x_train]\n",
    "enc_y_train = [ts.ckks_vector(ctx_training, y.tolist()) for y in y_train]"
   ]
  },
  {
   "cell_type": "code",
   "execution_count": 14,
   "metadata": {
    "scrolled": true
   },
   "outputs": [
    {
     "name": "stdout",
     "output_type": "stream",
     "text": [
      "Distribution on plain data:\n"
     ]
    },
    {
     "data": {
      "image/png": "[encoded data removed]",
      "text/plain": [
       "<Figure size 640x480 with 1 Axes>"
      ]
     },
     "metadata": {},
     "output_type": "display_data"
    }
   ],
   "source": [
    "normal_dist = lambda x, mean, var: np.exp(- np.square(x - mean) / (2 * var)) / np.sqrt(2 * np.pi * var)\n",
    "\n",
    "def plot_normal_dist(mean, var, rmin=-10, rmax=10):\n",
    "    x = np.arange(rmin, rmax, 0.01)\n",
    "    y = normal_dist(x, mean, var)\n",
    "    fig = plt.plot(x, y)\n",
    "    \n",
    "# plain distribution\n",
    "lr = LR(n_features)\n",
    "data = lr.lr(x_test)\n",
    "mean, var = map(float, [data.mean(), data.std() ** 2])\n",
    "plot_normal_dist(mean, var)\n",
    "print(\"Distribution on plain data:\")\n",
    "plt.show()\n",
    "\n",
    "# encrypted distribution\n",
    "def encrypted_out_distribution(eelr, enc_x_test):\n",
    "    w = eelr.weight\n",
    "    b = eelr.bias\n",
    "    data = []\n",
    "    for enc_x in enc_x_test:\n",
    "        enc_out = enc_x.dot(w) + b\n",
    "        data.append(enc_out.decrypt())\n",
    "    data = torch.tensor(data)\n",
    "    mean, var = map(float, [data.mean(), data.std() ** 2])\n",
    "    plot_normal_dist(mean, var)\n",
    "    print(\"Distribution on encrypted data:\")\n",
    "    # plt.show()\n"
   ]
  },
  {
   "cell_type": "markdown",
   "metadata": {},
   "source": [
    "Most of the data falls into $[-5,5]$, the sigmoid approximation should be good enough!"
   ]
  },
  {
   "cell_type": "markdown",
   "metadata": {},
   "source": [
    "We finally reached the last part, which is about training an encrypted logistic regression model on encrypted data! You can see that we decrypt the weights and re-encrypt them again after every epoch, this is necessary since after updating the weights at the end of the epoch, we can no longer use them to perform enough multiplications, so we need to get them back to the initial ciphertext level. In a real scenario, this would translate to sending the weights back to the secret-key holder for decryption and re-encryption. In that case, it will result in just a few Kilobytes of communication per epoch."
   ]
  },
  {
   "cell_type": "code",
   "execution_count": 15,
   "metadata": {},
   "outputs": [
    {
     "name": "stderr",
     "output_type": "stream",
     "text": [
      "100%|████████████████████████████████████████| 25/25 [6:05:40<00:00, 877.60s/it]"
     ]
    },
    {
     "name": "stdout",
     "output_type": "stream",
     "text": [
      "LR_time :  877.4709065055847\n",
      "====================\n",
      "LR_mem mean :  328.6196875\n",
      "LR_mem sum :  8215.4921875\n",
      "LR_mem max :  366.6875    LR_mem min :  232.0078125\n",
      "LR_mem :  [366.6875, 353.53515625, 337.43359375, 336.13671875, 333.62890625, 331.17578125, 334.2890625, 332.54296875, 232.0078125, 332.47265625, 327.73828125, 330.515625, 329.7109375, 329.98828125, 329.69140625, 328.65234375, 329.0234375, 328.06640625, 329.08203125, 328.6015625, 330.0078125, 327.7890625, 325.59375, 326.95703125, 324.1640625]\n",
      "====================\n",
      "LR_mem_sub :  6571.27484375\n",
      "LR_mem_first :  6194.8125\n",
      "LR_mem_last :  6579.91796875\n",
      "LR_mem_sub :  [6552.5625, 6573.39453125, 6576.85546875, 6576.109375, 6574.5078125, 6574.40625, 6577.35546875, 6574.3203125, 6474.37109375, 6575.14453125, 6572.65625, 6576.71484375, 6576.91796875, 6575.46875, 6575.2578125, 6576.890625, 6576.34375, 6575.59765625, 6577.3359375, 6576.203125, 6578.20703125, 6578.16796875, 6578.8203125, 6578.34375, 6579.91796875]\n"
     ]
    },
    {
     "name": "stderr",
     "output_type": "stream",
     "text": [
      "\n"
     ]
    }
   ],
   "source": [
    "main_list = []\n",
    "\n",
    "LR_time = []\n",
    "LR_mem = []\n",
    "LR_mem_sub = []\n",
    "\n",
    "sfm_s = memory_usage()\n",
    "\n",
    "for iter in tqdm(range(25)):\n",
    "    # eelr = EncryptedLR(lr)\n",
    "    # eelr.encrypt(ctx_training)\n",
    "    # # encrypted_out_distribution(eelr, enc_x_train)\n",
    "    mem_buff = {}\n",
    "    mem_flag[0] = True\n",
    "    st = time()\n",
    "    t = threading.Thread(target = record_mem)\n",
    "    t.start()\n",
    "\n",
    "    \n",
    "    eelr = EncryptedLR(LR(n_features))\n",
    "    accuracy = eelr.plain_accuracy(x_test, y_test)\n",
    "    # print(f\"Accuracy at epoch #0 is {accuracy}\")\n",
    "    \n",
    "    times = []\n",
    "    accuracy_list = []\n",
    "    for epoch in range(EPOCHS):\n",
    "        eelr.encrypt(ctx_training)\n",
    "        \n",
    "        # if you want to keep an eye on the distribution to make sure\n",
    "        # the function approximation is still working fine\n",
    "        # WARNING: this operation is time consuming\n",
    "        # encrypted_out_distribution(eelr, enc_x_train)\n",
    "        \n",
    "        t_start = time()\n",
    "        for enc_x, enc_y in zip(enc_x_train, enc_y_train):\n",
    "            enc_out = eelr.forward(enc_x)\n",
    "            eelr.backward(enc_x, enc_out, enc_y)\n",
    "        eelr.update_parameters()\n",
    "        t_end = time()\n",
    "        times.append(t_end - t_start)\n",
    "        \n",
    "        eelr.decrypt()\n",
    "        accuracy = eelr.plain_accuracy(x_test, y_test)\n",
    "        accuracy_list.append(accuracy)\n",
    "        \n",
    "    main_list.append(accuracy_list)\n",
    "\n",
    "    et = time()\n",
    "    mem_flag[0] = False\n",
    "    t.join()\n",
    "    \n",
    "    ft = et-st\n",
    "    fm = mem_buff[max(mem_buff)]-mem_buff[min(mem_buff)]\n",
    "\n",
    "    fm_s = memory_usage()\n",
    "    LR_time.append(ft)\n",
    "    LR_mem.append(fm)\n",
    "    LR_mem_sub.append(fm_s)\n",
    "\n",
    "print(\"LR_time : \", np.mean(LR_time))\n",
    "print(\"====================\")\n",
    "print(\"LR_mem mean : \", np.mean(LR_mem))\n",
    "print(\"LR_mem sum : \", np.sum(LR_mem))\n",
    "print(\"LR_mem max : \", max(LR_mem), \"   LR_mem min : \", min(LR_mem))\n",
    "print(\"LR_mem : \", LR_mem)\n",
    "\n",
    "print(\"====================\")\n",
    "print(\"LR_mem_sub : \", np.mean(LR_mem_sub))\n",
    "print(\"LR_mem_first : \", sfm_s )\n",
    "print(\"LR_mem_last : \", LR_mem_sub[-1])\n",
    "print(\"LR_mem_sub : \", LR_mem_sub)"
   ]
  },
  {
   "cell_type": "markdown",
   "metadata": {},
   "source": [
    "Even after running this cell many times myself, I always feel the joy when I see it working on encrypted data, so I hope you are feeling this joy as well!"
   ]
  },
  {
   "cell_type": "code",
   "execution_count": 16,
   "metadata": {},
   "outputs": [
    {
     "name": "stdout",
     "output_type": "stream",
     "text": [
      "[tensor(0.6224), tensor(1.), tensor(0.8050), tensor(0.9502), tensor(0.6805)]\n",
      "[tensor(0.6349), tensor(0.5187), tensor(0.6058), tensor(0.5145), tensor(0.4813)]\n",
      "[tensor(0.6390), tensor(0.5892), tensor(0.6100), tensor(0.6058), tensor(0.4813)]\n",
      "[tensor(0.7095), tensor(0.5187), tensor(0.6058), tensor(0.5145), tensor(0.4813)]\n",
      "[tensor(0.6224), tensor(0.5187), tensor(0.6058), tensor(0.5145), tensor(0.4813)]\n",
      "[tensor(0.6390), tensor(0.5643), tensor(0.6100), tensor(0.5934), tensor(0.4813)]\n",
      "[tensor(0.6390), tensor(0.5187), tensor(0.6100), tensor(0.5145), tensor(0.4813)]\n",
      "[tensor(0.6307), tensor(0.5643), tensor(0.6100), tensor(0.6017), tensor(0.4813)]\n",
      "[tensor(0.6224), tensor(0.7552), tensor(0.6141), tensor(0.6224), tensor(0.4813)]\n",
      "[tensor(0.6390), tensor(0.5187), tensor(0.6100), tensor(0.5145), tensor(0.4813)]\n",
      "[tensor(0.6390), tensor(0.5187), tensor(0.6100), tensor(0.5145), tensor(0.4813)]\n",
      "[tensor(0.6266), tensor(0.5187), tensor(0.6058), tensor(0.5145), tensor(0.4813)]\n",
      "[tensor(0.6349), tensor(0.6805), tensor(0.6100), tensor(0.6100), tensor(0.4813)]\n",
      "[tensor(0.6349), tensor(0.5187), tensor(0.6100), tensor(0.5145), tensor(0.4813)]\n",
      "[tensor(0.6224), tensor(0.8631), tensor(0.6183), tensor(0.7344), tensor(0.4896)]\n",
      "[tensor(0.6224), tensor(0.7718), tensor(0.6183), tensor(0.6224), tensor(0.4813)]\n",
      "[tensor(0.6349), tensor(0.5643), tensor(0.6100), tensor(0.5975), tensor(0.4813)]\n",
      "[tensor(0.6307), tensor(0.6929), tensor(0.6141), tensor(0.6183), tensor(0.4813)]\n",
      "[tensor(0.6390), tensor(0.5643), tensor(0.6100), tensor(0.5975), tensor(0.4813)]\n",
      "[tensor(0.6224), tensor(0.8672), tensor(0.6183), tensor(0.7344), tensor(0.4896)]\n",
      "[tensor(0.6390), tensor(0.5187), tensor(0.6017), tensor(0.5145), tensor(0.4813)]\n",
      "[tensor(0.6432), tensor(0.5187), tensor(0.6017), tensor(0.5145), tensor(0.4813)]\n",
      "[tensor(0.6349), tensor(0.5187), tensor(0.6100), tensor(0.5519), tensor(0.4813)]\n",
      "[tensor(0.6224), tensor(0.5851), tensor(0.6100), tensor(0.6058), tensor(0.4813)]\n",
      "[tensor(0.6266), tensor(0.5768), tensor(0.6100), tensor(0.5934), tensor(0.4813)]\n"
     ]
    }
   ],
   "source": [
    "for i in main_list:\n",
    "    print(i)"
   ]
  },
  {
   "cell_type": "code",
   "execution_count": 17,
   "metadata": {},
   "outputs": [
    {
     "name": "stdout",
     "output_type": "stream",
     "text": [
      "0 :  125\n",
      "1 :  116\n"
     ]
    }
   ],
   "source": [
    "one = 0\n",
    "zero = 0\n",
    "for i in y_test:\n",
    "    if 1 == i[0]:\n",
    "        one += 1\n",
    "    elif 0 == i[0]:\n",
    "        zero += 1\n",
    "\n",
    "print(\"0 : \", zero)\n",
    "print(\"1 : \", one)        "
   ]
  },
  {
   "cell_type": "code",
   "execution_count": 18,
   "metadata": {},
   "outputs": [],
   "source": [
    "final = []\n",
    "for i in range(len(main_list[0])):\n",
    "    tmp = []\n",
    "    for j in range(len(main_list)):\n",
    "        tmp.append(main_list[j][i])\n",
    "    final.append(np.mean(tmp))\n",
    "        "
   ]
  },
  {
   "cell_type": "code",
   "execution_count": 19,
   "metadata": {},
   "outputs": [
    {
     "data": {
      "text/plain": [
       "[0.6348548, 0.61377597, 0.61775935, 0.59136933, 0.4899585]"
      ]
     },
     "execution_count": 19,
     "metadata": {},
     "output_type": "execute_result"
    }
   ],
   "source": [
    "final"
   ]
  },
  {
   "cell_type": "markdown",
   "metadata": {},
   "source": [
    "[0.55850625, 0.52315354, 0.48132783, 0.48132783, 0.506722]"
   ]
  },
  {
   "cell_type": "markdown",
   "metadata": {},
   "source": [
    "[0.6348548, 0.61377597, 0.61775935, 0.59136933, 0.4899585]"
   ]
  },
  {
   "cell_type": "code",
   "execution_count": null,
   "metadata": {},
   "outputs": [],
   "source": []
  }
 ],
 "metadata": {
  "kernelspec": {
   "display_name": "Python 3 (ipykernel)",
   "language": "python",
   "name": "python3"
  },
  "language_info": {
   "codemirror_mode": {
    "name": "ipython",
    "version": 3
   },
   "file_extension": ".py",
   "mimetype": "text/x-python",
   "name": "python",
   "nbconvert_exporter": "python",
   "pygments_lexer": "ipython3",
   "version": "3.8.19"
  },
  "vscode": {
   "interpreter": {
    "hash": "31f2aee4e71d21fbe5cf8b01ff0e069b9275f58929596ceb00d14d90e3e16cd6"
   }
  }
 },
 "nbformat": 4,
 "nbformat_minor": 4
}
