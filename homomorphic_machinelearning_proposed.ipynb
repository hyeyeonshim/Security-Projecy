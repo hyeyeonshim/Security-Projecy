{
 "cells": [
  {
   "cell_type": "markdown",
   "metadata": {},
   "source": [
    "# Tutorial 1: Training and Evaluation of Logistic Regression on Encrypted Data"
   ]
  },
  {
   "cell_type": "markdown",
   "metadata": {},
   "source": [
    "## Setup"
   ]
  },
  {
   "cell_type": "code",
   "execution_count": 1,
   "metadata": {},
   "outputs": [],
   "source": [
    "import torch\n",
    "import tenseal as ts\n",
    "import pandas as pd\n",
    "import random\n",
    "from time import time\n",
    "from time import sleep\n",
    "\n",
    "# those are optional and are not necessary for training\n",
    "import numpy as np\n",
    "import matplotlib.pyplot as plt\n",
    "from sklearn.model_selection import train_test_split\n",
    "from sklearn.preprocessing import MinMaxScaler\n",
    "import psutil\n",
    "import threading\n",
    "from tqdm import tqdm\n",
    "\n",
    "torch.random.manual_seed(10)\n",
    "random.seed(10)\n",
    "np.random.seed(10) "
   ]
  },
  {
   "cell_type": "markdown",
   "metadata": {},
   "source": [
    "## dataset"
   ]
  },
  {
   "cell_type": "code",
   "execution_count": 2,
   "metadata": {},
   "outputs": [],
   "source": [
    "def cic_dataset():\n",
    "    save_list = [\"X_train\", \"X_test\", \"y_train\", \"y_test\"]\n",
    "    \n",
    "    for i in save_list:\n",
    "        save_path = 'data/' + i+'.csv'\n",
    "        globals()[\"{}\".format(i)] = pd.read_csv(save_path)\n",
    "    \n",
    "    x_tra = torch.tensor(X_train.values).float()\n",
    "    y_tra = torch.tensor(y_train.values).float()\n",
    "    x_te = torch.tensor(X_test.values).float()\n",
    "    y_te = torch.tensor(y_test.values).float()\n",
    "    \n",
    "    print(\"############# Data summary #############\")\n",
    "    print(f\"x_train has shape: {x_tra.shape}\")\n",
    "    print(f\"y_train has shape: {y_tra.shape}\")\n",
    "    print(f\"x_test has shape: {x_te.shape}\")\n",
    "    print(f\"y_test has shape: {y_te.shape}\")\n",
    "    print(\"#######################################\")\n",
    "    return x_tra, y_tra, x_te, y_te"
   ]
  },
  {
   "cell_type": "code",
   "execution_count": 3,
   "metadata": {},
   "outputs": [],
   "source": [
    "def test_dataset():\n",
    "    save_path = 'data/test_clear3.csv'\n",
    "    data = pd.read_csv(save_path)\n",
    "    print(data.shape)\n",
    "    \n",
    "    y = data['Label']\n",
    "    X = data[:]\n",
    "    X = X.drop(labels='Label',axis=1)\n",
    "    X_train, X_test, y_train, y_test = train_test_split(X, y, test_size=0.2, \n",
    "                                                        shuffle=True, random_state=34)\n",
    "    \n",
    "    scaler = MinMaxScaler(feature_range=(0,1)) \n",
    "    scaler.fit(X_train)\n",
    "    transformed_X_train = scaler.transform(X_train)\n",
    "    transformed_X_test = scaler.transform(X_test) \n",
    "    \n",
    "    x_train = torch.tensor(transformed_X_train).float()\n",
    "    y_train = torch.tensor(y_train.values).float()\n",
    "    x_test = torch.tensor(transformed_X_test).float()\n",
    "    y_test = torch.tensor(y_test.values).float()\n",
    "    \n",
    "    y_test = y_test.reshape(-1,1)\n",
    "    y_train = y_train.reshape(-1,1)\n",
    "    \n",
    "    print(\"############# Data summary #############\")\n",
    "    print(f\"x_train has shape: {x_train.shape}\")\n",
    "    print(f\"y_train has shape: {y_train.shape}\")\n",
    "    print(f\"x_test has shape: {x_test.shape}\")\n",
    "    print(f\"y_test has shape: {y_test.shape}\")\n",
    "    print(\"#######################################\")\n",
    "    \n",
    "    return x_train, y_train, x_test, y_test"
   ]
  },
  {
   "cell_type": "code",
   "execution_count": 4,
   "metadata": {},
   "outputs": [
    {
     "name": "stdout",
     "output_type": "stream",
     "text": [
      "############# Data summary #############\n",
      "x_train has shape: torch.Size([961, 291])\n",
      "y_train has shape: torch.Size([961, 1])\n",
      "x_test has shape: torch.Size([241, 291])\n",
      "y_test has shape: torch.Size([241, 1])\n",
      "#######################################\n"
     ]
    }
   ],
   "source": [
    "# select dataset\n",
    "x_train, y_train, x_test, y_test = cic_dataset()\n",
    "# x_train, y_train, x_test, y_test = test_dataset()"
   ]
  },
  {
   "cell_type": "markdown",
   "metadata": {},
   "source": [
    "## memory usage"
   ]
  },
  {
   "cell_type": "code",
   "execution_count": 5,
   "metadata": {},
   "outputs": [],
   "source": [
    "st = time()\n",
    "mem_buff = {}\n",
    "mem_flag = [True]\n",
    "\n",
    "def record_mem():    \n",
    "    global mem_buff, st\n",
    "    while mem_flag[0]:\n",
    "        p = psutil.Process()\n",
    "        rss = p.memory_info().rss/2**20        \n",
    "        mem_buff[time()-st] = (rss)"
   ]
  },
  {
   "cell_type": "code",
   "execution_count": 6,
   "metadata": {},
   "outputs": [],
   "source": [
    "def memory_usage(message: str = 'debug'):\n",
    "    # current process RAM usage\n",
    "    p2 = psutil.Process()\n",
    "    rss = p2.memory_info().rss / 2 ** 20 # Bytes to MB\n",
    "    # print(f\"[{message}] memory usage: {rss: 10.5f} MB\")\n",
    "    return rss"
   ]
  },
  {
   "cell_type": "markdown",
   "metadata": {},
   "source": [
    "## partial feature dataset"
   ]
  },
  {
   "cell_type": "code",
   "execution_count": 7,
   "metadata": {},
   "outputs": [],
   "source": [
    "# index\n",
    "pinx = [0, 1, 2, 3]\n",
    "ninx = []\n",
    "for i in range(len(x_test[1])):\n",
    "    if i not in pinx:  \n",
    "        ninx.append(i)"
   ]
  },
  {
   "cell_type": "markdown",
   "metadata": {},
   "source": [
    "## Training a Logistic Regression Model\n",
    "\n",
    "We will start by training a logistic regression model (without any encryption), which can be viewed as a single layer neural network with a single node. We will be using this model as a means of comparison against encrypted training and evaluation."
   ]
  },
  {
   "cell_type": "code",
   "execution_count": 8,
   "metadata": {},
   "outputs": [],
   "source": [
    "class LR(torch.nn.Module):\n",
    "    def __init__(self, n_features):\n",
    "        super(LR, self).__init__()\n",
    "        self.lr = torch.nn.Linear(n_features, 1)\n",
    "        \n",
    "    def forward(self, x):\n",
    "        out = torch.sigmoid(self.lr(x))\n",
    "        return out"
   ]
  },
  {
   "cell_type": "code",
   "execution_count": 9,
   "metadata": {},
   "outputs": [],
   "source": [
    "n_features = x_train.shape[1]\n",
    "model = LR(n_features)\n",
    "# use gradient descent with a learning_rate=1\n",
    "optim = torch.optim.SGD(model.parameters(), lr=1)\n",
    "# use Binary Cross Entropy Loss\n",
    "criterion = torch.nn.BCELoss()"
   ]
  },
  {
   "cell_type": "code",
   "execution_count": 10,
   "metadata": {},
   "outputs": [
    {
     "name": "stderr",
     "output_type": "stream",
     "text": [
      "100%|███████████████████████████████████████████| 10/10 [00:00<00:00, 15.10it/s]"
     ]
    },
    {
     "name": "stdout",
     "output_type": "stream",
     "text": [
      "LR_time :  0.06487276554107665\n",
      "====================\n",
      "LR_mem mean :  0.358984375\n",
      "LR_mem sum :  3.58984375\n",
      "LR_mem max :  3.58984375    LR_mem min :  0.0\n",
      "LR_mem :  [3.58984375, 0.0, 0.0, 0.0, 0.0, 0.0, 0.0, 0.0, 0.0, 0.0]\n",
      "====================\n",
      "LR_mem_sub :  511.13671875\n",
      "LR_mem_first :  507.34765625\n",
      "LR_mem_last :  511.16796875\n",
      "LR_mem_sub :  [510.9375, 511.12890625, 511.15625, 511.15625, 511.15625, 511.1640625, 511.1640625, 511.16796875, 511.16796875, 511.16796875]\n"
     ]
    },
    {
     "name": "stderr",
     "output_type": "stream",
     "text": [
      "\n"
     ]
    }
   ],
   "source": [
    "# define the number of epochs for both plain and encrypted training\n",
    "EPOCHS = 5\n",
    "\n",
    "def train(model, optim, criterion, x, y, epochs=EPOCHS):\n",
    "    for e in range(1, epochs + 1):\n",
    "        optim.zero_grad()\n",
    "        out = model(x)\n",
    "        # print(y.shape)\n",
    "        # print(out.shape)\n",
    "        loss = criterion(out, y)\n",
    "        loss.backward()\n",
    "        optim.step()\n",
    "        # print(f\"Loss at epoch {e}: {loss.data}\")\n",
    "    return model\n",
    "\n",
    "LR_time = []\n",
    "LR_mem = []\n",
    "LR_mem_sub = []\n",
    "\n",
    "sfm_s = memory_usage()\n",
    "\n",
    "for i in tqdm(range(10)):\n",
    "    mem_buff = {}\n",
    "    mem_flag[0] = True\n",
    "    st = time()\n",
    "    t = threading.Thread(target = record_mem)\n",
    "    t.start()\n",
    "    \n",
    "    \n",
    "    sleep(0.0001)\n",
    "    model = train(model, optim, criterion, x_train, y_train)\n",
    "    sleep(0.0001)\n",
    "    \n",
    "    \n",
    "    et = time()\n",
    "    mem_flag[0] = False\n",
    "    t.join()\n",
    "    ft = et-st\n",
    "    fm = mem_buff[max(mem_buff)]-mem_buff[min(mem_buff)]\n",
    "    # print(\"time : \", et-st)\n",
    "    # print(\"memory : \", mem_buff[max(mem_buff)]-mem_buff[min(mem_buff)])\n",
    "    fm_s = memory_usage()\n",
    "    LR_time.append(ft)\n",
    "    LR_mem.append(fm)\n",
    "    LR_mem_sub.append(fm_s)\n",
    "# plt.title(\"Memory Tracing\")\n",
    "# plt.ylabel(\"Memory_usage\")\n",
    "# plt.xlabel(\"Time\")\n",
    "# plt.plot(mem_buff.keys(), [mem_buff[i] for i in mem_buff.keys()])\n",
    "# plt.show()\n",
    "\n",
    "\n",
    "print(\"LR_time : \", np.mean(LR_time))\n",
    "print(\"====================\")\n",
    "print(\"LR_mem mean : \", np.mean(LR_mem))\n",
    "print(\"LR_mem sum : \", np.sum(LR_mem))\n",
    "print(\"LR_mem max : \", max(LR_mem), \"   LR_mem min : \", min(LR_mem))\n",
    "print(\"LR_mem : \", LR_mem)\n",
    "\n",
    "print(\"====================\")\n",
    "print(\"LR_mem_sub : \", np.mean(LR_mem_sub))\n",
    "print(\"LR_mem_first : \", sfm_s )\n",
    "print(\"LR_mem_last : \", LR_mem_sub[-1])\n",
    "print(\"LR_mem_sub : \", LR_mem_sub)"
   ]
  },
  {
   "cell_type": "code",
   "execution_count": 11,
   "metadata": {},
   "outputs": [
    {
     "name": "stdout",
     "output_type": "stream",
     "text": [
      "Accuracy on plain test_set: 1.0\n"
     ]
    }
   ],
   "source": [
    "def accuracy(model, x, y):\n",
    "    out = model(x)\n",
    "    correct = torch.abs(y - out) < 0.5\n",
    "    return correct.float().mean()\n",
    "\n",
    "plain_accuracy = accuracy(model, x_test, y_test)\n",
    "print(f\"Accuracy on plain test_set: {plain_accuracy}\")"
   ]
  },
  {
   "attachments": {},
   "cell_type": "markdown",
   "metadata": {},
   "source": [
    "## Training an Encrypted Logistic Regression Model on Encrypted Data"
   ]
  },
  {
   "cell_type": "markdown",
   "metadata": {},
   "source": [
    "### privacy feature"
   ]
  },
  {
   "cell_type": "code",
   "execution_count": 12,
   "metadata": {},
   "outputs": [],
   "source": [
    "enc_x_train = torch.tensor(np.array([]))"
   ]
  },
  {
   "cell_type": "code",
   "execution_count": 13,
   "metadata": {},
   "outputs": [],
   "source": [
    "for i in pinx:\n",
    "    if len(pinx) == 1:\n",
    "        enc_x_train = x_train[: ,i].reshape(-1, 1)\n",
    "    else:\n",
    "        enc_x_train = torch.cat([enc_x_train, x_train[: ,i].reshape(-1, 1)], dim=1)"
   ]
  },
  {
   "cell_type": "code",
   "execution_count": 14,
   "metadata": {},
   "outputs": [],
   "source": [
    "x_train2 = torch.tensor(np.array([]))\n",
    "for i in ninx:\n",
    "    if len(ninx) == 1:\n",
    "        x_train2 = x_train[: ,i].reshape(-1, 1)\n",
    "    else:\n",
    "        x_train2 = torch.cat([x_train2, x_train[: ,i].reshape(-1, 1)], dim=1)"
   ]
  },
  {
   "cell_type": "code",
   "execution_count": 15,
   "metadata": {},
   "outputs": [
    {
     "name": "stdout",
     "output_type": "stream",
     "text": [
      "enc_x_train shape :  torch.Size([961, 4])\n",
      "x_train2 shape :  torch.Size([961, 287])\n"
     ]
    }
   ],
   "source": [
    "print(\"enc_x_train shape : \", enc_x_train.shape)\n",
    "print(\"x_train2 shape : \", x_train2.shape)"
   ]
  },
  {
   "cell_type": "code",
   "execution_count": 16,
   "metadata": {},
   "outputs": [
    {
     "data": {
      "text/plain": [
       "torch.Tensor"
      ]
     },
     "execution_count": 16,
     "metadata": {},
     "output_type": "execute_result"
    }
   ],
   "source": [
    "type(x_train2)"
   ]
  },
  {
   "cell_type": "markdown",
   "metadata": {},
   "source": [
    "### Enc training"
   ]
  },
  {
   "cell_type": "code",
   "execution_count": 17,
   "metadata": {},
   "outputs": [],
   "source": [
    "class EncryptedLR:\n",
    "    def __init__(self, torch_lr, pinx, nidx):\n",
    "        self.weight = torch_lr.lr.weight.data.tolist()[0]\n",
    "        self.bias = torch_lr.lr.bias.data.tolist()\n",
    "\n",
    "        tmp = []\n",
    "        for i in pinx:\n",
    "            tmp.append(self.weight[i])\n",
    "        self.w1 = tmp\n",
    "        \n",
    "        tmp = []  \n",
    "        for i in ninx:\n",
    "            tmp.append(self.weight[i])\n",
    "        self.w2 = torch.tensor(np.array(tmp))\n",
    "    \n",
    "        self._delta_w1 = 0\n",
    "        self._delta_w2 = 0\n",
    "        self._delta_b = 0\n",
    "        self._count = 0\n",
    "        self.flow = []\n",
    "        \n",
    "    def forward(self, enc_x, x):\n",
    "        self.flow.append(\"forward\")\n",
    "        tmp1 = enc_x.dot(self.w1)\n",
    "        tmp2 = int(x.dot(self.w2))\n",
    "        enc_out = tmp1 + tmp2 + self.bias\n",
    "        enc_out = EncryptedLR.sigmoid(enc_out)\n",
    "        return enc_out\n",
    "    \n",
    "    def backward(self, enc_x, x, enc_out, enc_y):\n",
    "        self.flow.append(\"backward\")\n",
    "        out_minus_y = (enc_out - enc_y)\n",
    "        self._delta_w1 += enc_x * out_minus_y\n",
    "        out_minus_y = out_minus_y.decrypt()[0]\n",
    "        self._delta_w2 += x * out_minus_y\n",
    "        self._delta_b += out_minus_y\n",
    "        self._count += 1\n",
    "        \n",
    "    def update_parameters(self):\n",
    "        self.flow.append(\"update_parameters\")\n",
    "        if self._count == 0:\n",
    "            raise RuntimeError(\"You should at least run one forward iteration\")\n",
    "        # update weights\n",
    "        # We use a small regularization term to keep the output\n",
    "        # of the linear layer in the range of the sigmoid approximation\n",
    "        self.w1 -= self._delta_w1 * (1 / self._count) + self.w1 * 0.05\n",
    "        self.w2 -= self._delta_w2 * (1 / self._count) + self.w2 * 0.05\n",
    "        self.bias -= self._delta_b * (1 / self._count)\n",
    "        # reset gradient accumulators and iterations count\n",
    "        self._delta_w1 = 0\n",
    "        self._delta_w2 = 0\n",
    "        self._delta_b = 0\n",
    "        self._count = 0\n",
    "        # print(\"weight : \", self.weight.decrypt() , \"bias : \", self.bias.decrypt())\n",
    "    \n",
    "    @staticmethod\n",
    "    def sigmoid(enc_x):\n",
    "        # We use the polynomial approximation of degree 3\n",
    "        # sigmoid(x) = 0.5 + 0.197 * x - 0.004 * x^3\n",
    "        # from https://eprint.iacr.org/2018/462.pdf\n",
    "        # which fits the function pretty well in the range [-5,5]\n",
    "        return enc_x.polyval([0.5, 0.197, 0, -0.004])\n",
    "    \n",
    "    def plain_accuracy(self, x_test, y_test):\n",
    "        # evaluate accuracy of the model on\n",
    "        # the plain (x_test, y_test) dataset\n",
    "        w = torch.tensor(self.weight)\n",
    "        b = torch.tensor(self.bias)\n",
    "        out = torch.sigmoid(x_test.matmul(w) + b).reshape(-1, 1)\n",
    "        # print(out)\n",
    "        correct = torch.abs(y_test - out) < 0.5\n",
    "        return correct.float().mean()    \n",
    "\n",
    "    def plain_accuracy2(self, x_test, y_test, weight_cat):\n",
    "        self.flow.append(\"plain_accuracy2\")\n",
    "        # evaluate accuracy of the model on\n",
    "        # the plain (x_test, y_test) dataset\n",
    "        w = torch.tensor(weight_cat)\n",
    "        b = torch.tensor(self.bias)\n",
    "        out = torch.sigmoid(x_test.matmul(w) + b).reshape(-1, 1)\n",
    "        # print(out)\n",
    "        correct = torch.abs(y_test - out) < 0.5\n",
    "        return correct.float().mean()    \n",
    "        \n",
    "    def encrypt(self, context):\n",
    "        self.flow.append(\"encrypt\")\n",
    "        self.w1 = ts.ckks_vector(context, self.w1)\n",
    "        self.bias = ts.ckks_vector(context, self.bias)\n",
    "        \n",
    "    def decrypt(self):\n",
    "        self.flow.append(\"decrypt\")\n",
    "        self.w1 = self.w1.decrypt()\n",
    "        self.bias = self.bias.decrypt()\n",
    "\n",
    "    def cat_weight(self):\n",
    "        self.flow.append(\"cat_weight\")\n",
    "        weight_cat = self.w1 + self.w2.tolist()\n",
    "        return weight_cat\n",
    "        \n",
    "    def __call__(self, *args, **kwargs):\n",
    "        return self.forward(*args, **kwargs)\n"
   ]
  },
  {
   "cell_type": "code",
   "execution_count": 18,
   "metadata": {},
   "outputs": [],
   "source": [
    "# parameters\n",
    "poly_mod_degree = 8192\n",
    "coeff_mod_bit_sizes = [40, 21, 21, 21, 21, 21, 21, 40]\n",
    "# create TenSEALContext\n",
    "ctx_training = ts.context(ts.SCHEME_TYPE.CKKS, poly_mod_degree, -1, coeff_mod_bit_sizes)\n",
    "ctx_training.global_scale = 2 ** 21\n",
    "ctx_training.generate_galois_keys()"
   ]
  },
  {
   "cell_type": "code",
   "execution_count": 19,
   "metadata": {},
   "outputs": [
    {
     "name": "stderr",
     "output_type": "stream",
     "text": [
      "100%|█████████████████████████████████████████| 100/100 [24:18<00:00, 14.58s/it]\n"
     ]
    },
    {
     "name": "stdout",
     "output_type": "stream",
     "text": [
      "LR_time :  14.566640419960022\n",
      "====================\n",
      "LR_mem mean :  1714.50390625\n",
      "LR_mem sum :  171450.390625\n",
      "LR_mem max :  1714.50390625    LR_mem min :  1714.50390625\n",
      "LR_mem :  [1714.50390625, 1714.50390625, 1714.50390625, 1714.50390625, 1714.50390625, 1714.50390625, 1714.50390625, 1714.50390625, 1714.50390625, 1714.50390625, 1714.50390625, 1714.50390625, 1714.50390625, 1714.50390625, 1714.50390625, 1714.50390625, 1714.50390625, 1714.50390625, 1714.50390625, 1714.50390625, 1714.50390625, 1714.50390625, 1714.50390625, 1714.50390625, 1714.50390625, 1714.50390625, 1714.50390625, 1714.50390625, 1714.50390625, 1714.50390625, 1714.50390625, 1714.50390625, 1714.50390625, 1714.50390625, 1714.50390625, 1714.50390625, 1714.50390625, 1714.50390625, 1714.50390625, 1714.50390625, 1714.50390625, 1714.50390625, 1714.50390625, 1714.50390625, 1714.50390625, 1714.50390625, 1714.50390625, 1714.50390625, 1714.50390625, 1714.50390625, 1714.50390625, 1714.50390625, 1714.50390625, 1714.50390625, 1714.50390625, 1714.50390625, 1714.50390625, 1714.50390625, 1714.50390625, 1714.50390625, 1714.50390625, 1714.50390625, 1714.50390625, 1714.50390625, 1714.50390625, 1714.50390625, 1714.50390625, 1714.50390625, 1714.50390625, 1714.50390625, 1714.50390625, 1714.50390625, 1714.50390625, 1714.50390625, 1714.50390625, 1714.50390625, 1714.50390625, 1714.50390625, 1714.50390625, 1714.50390625, 1714.50390625, 1714.50390625, 1714.50390625, 1714.50390625, 1714.50390625, 1714.50390625, 1714.50390625, 1714.50390625, 1714.50390625, 1714.50390625, 1714.50390625, 1714.50390625, 1714.50390625, 1714.50390625, 1714.50390625, 1714.50390625, 1714.50390625, 1714.50390625, 1714.50390625, 1714.50390625]\n",
      "====================\n",
      "LR_mem_sub :  3434.6715234375\n",
      "LR_mem_first :  886.3359375\n",
      "LR_mem_last :  3443.0859375\n",
      "LR_mem_sub :  [2601.64453125, 3443.0859375, 3443.0859375, 3443.0859375, 3443.0859375, 3443.0859375, 3443.0859375, 3443.0859375, 3443.0859375, 3443.0859375, 3443.0859375, 3443.0859375, 3443.0859375, 3443.0859375, 3443.0859375, 3443.0859375, 3443.0859375, 3443.0859375, 3443.0859375, 3443.0859375, 3443.0859375, 3443.0859375, 3443.0859375, 3443.0859375, 3443.0859375, 3443.0859375, 3443.0859375, 3443.0859375, 3443.0859375, 3443.0859375, 3443.0859375, 3443.0859375, 3443.0859375, 3443.0859375, 3443.0859375, 3443.0859375, 3443.0859375, 3443.0859375, 3443.0859375, 3443.0859375, 3443.0859375, 3443.0859375, 3443.0859375, 3443.0859375, 3443.0859375, 3443.0859375, 3443.0859375, 3443.0859375, 3443.0859375, 3443.0859375, 3443.0859375, 3443.0859375, 3443.0859375, 3443.0859375, 3443.0859375, 3443.0859375, 3443.0859375, 3443.0859375, 3443.0859375, 3443.0859375, 3443.0859375, 3443.0859375, 3443.0859375, 3443.0859375, 3443.0859375, 3443.0859375, 3443.0859375, 3443.0859375, 3443.0859375, 3443.0859375, 3443.0859375, 3443.0859375, 3443.0859375, 3443.0859375, 3443.0859375, 3443.0859375, 3443.0859375, 3443.0859375, 3443.0859375, 3443.0859375, 3443.0859375, 3443.0859375, 3443.0859375, 3443.0859375, 3443.0859375, 3443.0859375, 3443.0859375, 3443.0859375, 3443.0859375, 3443.0859375, 3443.0859375, 3443.0859375, 3443.0859375, 3443.0859375, 3443.0859375, 3443.0859375, 3443.0859375, 3443.0859375, 3443.0859375, 3443.0859375]\n"
     ]
    }
   ],
   "source": [
    "mem_buff = {}\n",
    "mem_flag[0] = True\n",
    "\n",
    "LR_time = []\n",
    "LR_mem = []\n",
    "LR_mem_sub = []\n",
    "\n",
    "sfm_s = memory_usage()\n",
    "\n",
    "for i in tqdm(range(100)):\n",
    "    st = time()\n",
    "    t = threading.Thread(target = record_mem)\n",
    "    t.start()\n",
    "    \n",
    "    enc_x_train11 = [ts.ckks_vector(ctx_training, x.tolist()) for x in enc_x_train]\n",
    "    enc_y_train11 = [ts.ckks_vector(ctx_training, y.tolist()) for y in y_train]\n",
    "    \n",
    "    et = time()\n",
    "    mem_flag[0] = False\n",
    "    t.join()\n",
    "\n",
    "    ft = et-st\n",
    "    fm = mem_buff[max(mem_buff)]-mem_buff[min(mem_buff)]\n",
    "    fm_s = memory_usage()\n",
    "    LR_time.append(ft)\n",
    "    LR_mem.append(fm)\n",
    "    LR_mem_sub.append(fm_s)\n",
    "\n",
    "\n",
    "print(\"LR_time : \", np.mean(LR_time))\n",
    "print(\"====================\")\n",
    "print(\"LR_mem mean : \", np.mean(LR_mem))\n",
    "print(\"LR_mem sum : \", np.sum(LR_mem))\n",
    "print(\"LR_mem max : \", max(LR_mem), \"   LR_mem min : \", min(LR_mem))\n",
    "print(\"LR_mem : \", LR_mem)\n",
    "\n",
    "print(\"====================\")\n",
    "print(\"LR_mem_sub : \", np.mean(LR_mem_sub))\n",
    "print(\"LR_mem_first : \", sfm_s )\n",
    "print(\"LR_mem_last : \", LR_mem_sub[-1])\n",
    "print(\"LR_mem_sub : \", LR_mem_sub)\n",
    "\n",
    "\n",
    "enc_x_train = [ts.ckks_vector(ctx_training, x.tolist()) for x in enc_x_train]\n",
    "enc_y_train = [ts.ckks_vector(ctx_training, y.tolist()) for y in y_train]"
   ]
  },
  {
   "cell_type": "code",
   "execution_count": 20,
   "metadata": {
    "scrolled": true
   },
   "outputs": [
    {
     "name": "stdout",
     "output_type": "stream",
     "text": [
      "Distribution on plain data:\n"
     ]
    },
    {
     "data": {
      "image/png": "[encoded data removed]",
      "text/plain": [
       "<Figure size 640x480 with 1 Axes>"
      ]
     },
     "metadata": {},
     "output_type": "display_data"
    }
   ],
   "source": [
    "normal_dist = lambda x, mean, var: np.exp(- np.square(x - mean) / (2 * var)) / np.sqrt(2 * np.pi * var)\n",
    "\n",
    "def plot_normal_dist(mean, var, rmin=-10, rmax=10):\n",
    "    x = np.arange(rmin, rmax, 0.01)\n",
    "    y = normal_dist(x, mean, var)\n",
    "    fig = plt.plot(x, y)\n",
    "    \n",
    "# plain distribution\n",
    "lr = LR(n_features)\n",
    "data = lr.lr(x_test)\n",
    "mean, var = map(float, [data.mean(), data.std() ** 2])\n",
    "plot_normal_dist(mean, var)\n",
    "print(\"Distribution on plain data:\")\n",
    "plt.show()\n",
    "\n",
    "# encrypted distribution\n",
    "def encrypted_out_distribution(eelr, enc_x_test):\n",
    "    w = eelr.weight\n",
    "    b = eelr.bias\n",
    "    data = []\n",
    "    for enc_x in enc_x_test:\n",
    "        enc_out = enc_x.dot(w) + b\n",
    "        data.append(enc_out.decrypt())\n",
    "    data = torch.tensor(data)\n",
    "    mean, var = map(float, [data.mean(), data.std() ** 2])\n",
    "    plot_normal_dist(mean, var)\n",
    "    print(\"Distribution on encrypted data:\")\n",
    "    # plt.show()\n"
   ]
  },
  {
   "cell_type": "markdown",
   "metadata": {},
   "source": [
    "Most of the data falls into $[-5,5]$, the sigmoid approximation should be good enough!"
   ]
  },
  {
   "cell_type": "markdown",
   "metadata": {},
   "source": [
    "We finally reached the last part, which is about training an encrypted logistic regression model on encrypted data! You can see that we decrypt the weights and re-encrypt them again after every epoch, this is necessary since after updating the weights at the end of the epoch, we can no longer use them to perform enough multiplications, so we need to get them back to the initial ciphertext level. In a real scenario, this would translate to sending the weights back to the secret-key holder for decryption and re-encryption. In that case, it will result in just a few Kilobytes of communication per epoch."
   ]
  },
  {
   "cell_type": "code",
   "execution_count": 21,
   "metadata": {},
   "outputs": [
    {
     "data": {
      "text/plain": [
       "torch.Tensor"
      ]
     },
     "execution_count": 21,
     "metadata": {},
     "output_type": "execute_result"
    }
   ],
   "source": [
    "type(x_train2[0])"
   ]
  },
  {
   "cell_type": "code",
   "execution_count": 22,
   "metadata": {},
   "outputs": [
    {
     "name": "stderr",
     "output_type": "stream",
     "text": [
      " 49%|████████████████▋                 | 49/100 [20:45:39<21:36:30, 1525.30s/it]\n"
     ]
    },
    {
     "ename": "KeyboardInterrupt",
     "evalue": "",
     "output_type": "error",
     "traceback": [
      "\u001b[0;31m---------------------------------------------------------------------------\u001b[0m",
      "\u001b[0;31mKeyboardInterrupt\u001b[0m                         Traceback (most recent call last)",
      "Cell \u001b[0;32mIn[22], line 36\u001b[0m\n\u001b[1;32m     34\u001b[0m t_start \u001b[38;5;241m=\u001b[39m time()\n\u001b[1;32m     35\u001b[0m \u001b[38;5;28;01mfor\u001b[39;00m enc_x, plain_x ,enc_y \u001b[38;5;129;01min\u001b[39;00m \u001b[38;5;28mzip\u001b[39m(enc_x_train, x_train2, enc_y_train):\n\u001b[0;32m---> 36\u001b[0m     enc_out \u001b[38;5;241m=\u001b[39m \u001b[43meelr\u001b[49m\u001b[38;5;241;43m.\u001b[39;49m\u001b[43mforward\u001b[49m\u001b[43m(\u001b[49m\u001b[43menc_x\u001b[49m\u001b[43m,\u001b[49m\u001b[43m \u001b[49m\u001b[43mplain_x\u001b[49m\u001b[43m)\u001b[49m\n\u001b[1;32m     37\u001b[0m     eelr\u001b[38;5;241m.\u001b[39mbackward(enc_x, plain_x, enc_out, enc_y)\n\u001b[1;32m     38\u001b[0m eelr\u001b[38;5;241m.\u001b[39mupdate_parameters()\n",
      "Cell \u001b[0;32mIn[17], line 24\u001b[0m, in \u001b[0;36mEncryptedLR.forward\u001b[0;34m(self, enc_x, x)\u001b[0m\n\u001b[1;32m     22\u001b[0m \u001b[38;5;28;01mdef\u001b[39;00m \u001b[38;5;21mforward\u001b[39m(\u001b[38;5;28mself\u001b[39m, enc_x, x):\n\u001b[1;32m     23\u001b[0m     \u001b[38;5;28mself\u001b[39m\u001b[38;5;241m.\u001b[39mflow\u001b[38;5;241m.\u001b[39mappend(\u001b[38;5;124m\"\u001b[39m\u001b[38;5;124mforward\u001b[39m\u001b[38;5;124m\"\u001b[39m)\n\u001b[0;32m---> 24\u001b[0m     tmp1 \u001b[38;5;241m=\u001b[39m \u001b[43menc_x\u001b[49m\u001b[38;5;241;43m.\u001b[39;49m\u001b[43mdot\u001b[49m\u001b[43m(\u001b[49m\u001b[38;5;28;43mself\u001b[39;49m\u001b[38;5;241;43m.\u001b[39;49m\u001b[43mw1\u001b[49m\u001b[43m)\u001b[49m\n\u001b[1;32m     25\u001b[0m     tmp2 \u001b[38;5;241m=\u001b[39m \u001b[38;5;28mint\u001b[39m(x\u001b[38;5;241m.\u001b[39mdot(\u001b[38;5;28mself\u001b[39m\u001b[38;5;241m.\u001b[39mw2))\n\u001b[1;32m     26\u001b[0m     enc_out \u001b[38;5;241m=\u001b[39m tmp1 \u001b[38;5;241m+\u001b[39m tmp2 \u001b[38;5;241m+\u001b[39m \u001b[38;5;28mself\u001b[39m\u001b[38;5;241m.\u001b[39mbias\n",
      "File \u001b[0;32m~/anaconda3/envs/ts/lib/python3.8/site-packages/tenseal/tensors/ckksvector.py:135\u001b[0m, in \u001b[0;36mCKKSVector.dot\u001b[0;34m(self, other)\u001b[0m\n\u001b[1;32m    133\u001b[0m \u001b[38;5;28;01mdef\u001b[39;00m \u001b[38;5;21mdot\u001b[39m(\u001b[38;5;28mself\u001b[39m, other) \u001b[38;5;241m-\u001b[39m\u001b[38;5;241m>\u001b[39m \u001b[38;5;124m\"\u001b[39m\u001b[38;5;124mCKKSVector\u001b[39m\u001b[38;5;124m\"\u001b[39m:\n\u001b[1;32m    134\u001b[0m     other \u001b[38;5;241m=\u001b[39m \u001b[38;5;28mself\u001b[39m\u001b[38;5;241m.\u001b[39m_dot(other)\n\u001b[0;32m--> 135\u001b[0m     \u001b[38;5;28;01mreturn\u001b[39;00m \u001b[38;5;28mself\u001b[39m\u001b[38;5;241m.\u001b[39m_wrap(\u001b[38;5;28;43mself\u001b[39;49m\u001b[38;5;241;43m.\u001b[39;49m\u001b[43mdata\u001b[49m\u001b[38;5;241;43m.\u001b[39;49m\u001b[43mdot\u001b[49m\u001b[43m(\u001b[49m\u001b[43mother\u001b[49m\u001b[43m)\u001b[49m)\n",
      "\u001b[0;31mKeyboardInterrupt\u001b[0m: "
     ]
    }
   ],
   "source": [
    "main_list = []\n",
    "\n",
    "LR_time = []\n",
    "LR_mem = []\n",
    "LR_mem_sub = []\n",
    "\n",
    "sfm_s = memory_usage()\n",
    "\n",
    "for iter in tqdm(range(100)):\n",
    "    # eelr = EncryptedLR(lr)\n",
    "    # eelr.encrypt(ctx_training)\n",
    "    # # encrypted_out_distribution(eelr, enc_x_train)\n",
    "    mem_buff = {}\n",
    "    mem_flag[0] = True\n",
    "    st = time()\n",
    "    t = threading.Thread(target = record_mem)\n",
    "    t.start()\n",
    "\n",
    "    \n",
    "    eelr = EncryptedLR(LR(n_features), pinx, ninx)\n",
    "    accuracy = eelr.plain_accuracy(x_test, y_test)\n",
    "    # print(f\"Accuracy at epoch #0 is {accuracy}\")\n",
    "    \n",
    "    times = []\n",
    "    accuracy_list = []\n",
    "    for epoch in range(EPOCHS):\n",
    "        eelr.encrypt(ctx_training)\n",
    "        \n",
    "        # if you want to keep an eye on the distribution to make sure\n",
    "        # the function approximation is still working fine\n",
    "        # WARNING: this operation is time consuming\n",
    "        # encrypted_out_distribution(eelr, enc_x_train)\n",
    "        \n",
    "        t_start = time()\n",
    "        for enc_x, plain_x ,enc_y in zip(enc_x_train, x_train2, enc_y_train):\n",
    "            enc_out = eelr.forward(enc_x, plain_x)\n",
    "            eelr.backward(enc_x, plain_x, enc_out, enc_y)\n",
    "        eelr.update_parameters()\n",
    "        t_end = time()\n",
    "        times.append(t_end - t_start)\n",
    "        \n",
    "        eelr.decrypt()\n",
    "        \n",
    "        weight_cat = eelr.cat_weight()\n",
    "        accuracy = eelr.plain_accuracy2(x_test, y_test, weight_cat)\n",
    "        # print(f\"Accuracy at epoch #{epoch + 1} is {accuracy}\")\n",
    "    \n",
    "        accuracy_list.append(accuracy)\n",
    "        \n",
    "    # print(f\"\\nAverage time per epoch: {int(sum(times) / len(times))} seconds\")\n",
    "    # print(f\"Final accuracy is {accuracy}\")\n",
    "    \n",
    "    # diff_accuracy = plain_accuracy - accuracy\n",
    "    # print(f\"Difference between plain and encrypted accuracies: {diff_accuracy}\")\n",
    "    # if diff_accuracy < 0:\n",
    "        # print(\"Oh! We got a better accuracy when training on encrypted data! The noise was on our side...\")\n",
    "\n",
    "    main_list.append(accuracy_list)\n",
    "\n",
    "    et = time()\n",
    "    mem_flag[0] = False\n",
    "    t.join()\n",
    "    \n",
    "    ft = et-st\n",
    "    fm = mem_buff[max(mem_buff)]-mem_buff[min(mem_buff)]\n",
    "\n",
    "    fm_s = memory_usage()\n",
    "    LR_time.append(ft)\n",
    "    LR_mem.append(fm)\n",
    "    LR_mem_sub.append(fm_s)\n",
    "\n",
    "print(\"LR_time : \", np.mean(LR_time))\n",
    "print(\"====================\")\n",
    "print(\"LR_mem mean : \", np.mean(LR_mem))\n",
    "print(\"LR_mem sum : \", np.sum(LR_mem))\n",
    "print(\"LR_mem max : \", max(LR_mem), \"   LR_mem min : \", min(LR_mem))\n",
    "print(\"LR_mem : \", LR_mem)\n",
    "\n",
    "print(\"====================\")\n",
    "print(\"LR_mem_sub : \", np.mean(LR_mem_sub))\n",
    "print(\"LR_mem_first : \", sfm_s )\n",
    "print(\"LR_mem_last : \", LR_mem_sub[-1])\n",
    "print(\"LR_mem_sub : \", LR_mem_sub)"
   ]
  },
  {
   "cell_type": "markdown",
   "metadata": {},
   "source": [
    "Even after running this cell many times myself, I always feel the joy when I see it working on encrypted data, so I hope you are feeling this joy as well!"
   ]
  },
  {
   "cell_type": "code",
   "execution_count": null,
   "metadata": {},
   "outputs": [],
   "source": [
    "a = 0\n",
    "for i in main_list:\n",
    "    a += i[4]"
   ]
  },
  {
   "cell_type": "code",
   "execution_count": null,
   "metadata": {},
   "outputs": [],
   "source": [
    "a/100\n"
   ]
  },
  {
   "cell_type": "code",
   "execution_count": null,
   "metadata": {},
   "outputs": [],
   "source": [
    "one = 0\n",
    "zero = 0\n",
    "for i in y_test:\n",
    "    if 1 == i[0]:\n",
    "        one += 1\n",
    "    elif 0 == i[0]:\n",
    "        zero += 1\n",
    "\n",
    "print(\"0 : \", zero)\n",
    "print(\"1 : \", one)        "
   ]
  },
  {
   "cell_type": "code",
   "execution_count": null,
   "metadata": {},
   "outputs": [],
   "source": []
  },
  {
   "cell_type": "code",
   "execution_count": null,
   "metadata": {},
   "outputs": [],
   "source": []
  },
  {
   "cell_type": "code",
   "execution_count": null,
   "metadata": {},
   "outputs": [],
   "source": []
  }
 ],
 "metadata": {
  "kernelspec": {
   "display_name": "Python 3 (ipykernel)",
   "language": "python",
   "name": "python3"
  },
  "language_info": {
   "codemirror_mode": {
    "name": "ipython",
    "version": 3
   },
   "file_extension": ".py",
   "mimetype": "text/x-python",
   "name": "python",
   "nbconvert_exporter": "python",
   "pygments_lexer": "ipython3",
   "version": "3.8.19"
  },
  "vscode": {
   "interpreter": {
    "hash": "31f2aee4e71d21fbe5cf8b01ff0e069b9275f58929596ceb00d14d90e3e16cd6"
   }
  }
 },
 "nbformat": 4,
 "nbformat_minor": 4
}
